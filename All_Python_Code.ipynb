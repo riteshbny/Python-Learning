{
 "cells": [
  {
   "cell_type": "markdown",
   "id": "259d3bae",
   "metadata": {},
   "source": [
    "# Introduction to Python"
   ]
  },
  {
   "cell_type": "code",
   "execution_count": 24,
   "id": "3a2c6a91",
   "metadata": {},
   "outputs": [],
   "source": [
    "x = 1"
   ]
  },
  {
   "cell_type": "code",
   "execution_count": 28,
   "id": "43f408b7",
   "metadata": {},
   "outputs": [
    {
     "name": "stdout",
     "output_type": "stream",
     "text": [
      "<class 'int'>\n"
     ]
    }
   ],
   "source": [
    "print(type(x))"
   ]
  },
  {
   "cell_type": "code",
   "execution_count": 22,
   "id": "f5b0dea3",
   "metadata": {},
   "outputs": [
    {
     "name": "stdout",
     "output_type": "stream",
     "text": [
      "<class 'float'>\n"
     ]
    }
   ],
   "source": [
    "y = 2.8\n",
    "print(type(y))"
   ]
  },
  {
   "cell_type": "code",
   "execution_count": 29,
   "id": "a4aee742",
   "metadata": {},
   "outputs": [
    {
     "name": "stdout",
     "output_type": "stream",
     "text": [
      "<class 'complex'>\n"
     ]
    }
   ],
   "source": [
    "z = 3 + 2j\n",
    "print(type(z))"
   ]
  },
  {
   "cell_type": "code",
   "execution_count": 31,
   "id": "a18b2303",
   "metadata": {},
   "outputs": [],
   "source": [
    "a = \"hello I am Ritesh Kumar\""
   ]
  },
  {
   "cell_type": "code",
   "execution_count": 32,
   "id": "4b60cbb0",
   "metadata": {},
   "outputs": [
    {
     "data": {
      "text/plain": [
       "'h'"
      ]
     },
     "execution_count": 32,
     "metadata": {},
     "output_type": "execute_result"
    }
   ],
   "source": [
    "a[0]"
   ]
  },
  {
   "cell_type": "code",
   "execution_count": 41,
   "id": "30fe7468",
   "metadata": {},
   "outputs": [
    {
     "data": {
      "text/plain": [
       "'ll'"
      ]
     },
     "execution_count": 41,
     "metadata": {},
     "output_type": "execute_result"
    }
   ],
   "source": [
    "a[2:4]"
   ]
  },
  {
   "cell_type": "code",
   "execution_count": 42,
   "id": "11376e1f",
   "metadata": {},
   "outputs": [
    {
     "name": "stdout",
     "output_type": "stream",
     "text": [
      "23\n"
     ]
    }
   ],
   "source": [
    "print(len(a))"
   ]
  },
  {
   "cell_type": "code",
   "execution_count": 43,
   "id": "57f0f34c",
   "metadata": {},
   "outputs": [
    {
     "name": "stdout",
     "output_type": "stream",
     "text": [
      "hello i am ritesh kumar\n"
     ]
    }
   ],
   "source": [
    "print(a.lower())"
   ]
  },
  {
   "cell_type": "code",
   "execution_count": 51,
   "id": "4e6d806f",
   "metadata": {},
   "outputs": [
    {
     "name": "stdout",
     "output_type": "stream",
     "text": [
      "HELLO I AM RITESH KUMAR\n"
     ]
    }
   ],
   "source": [
    "print(a.upper())"
   ]
  },
  {
   "cell_type": "code",
   "execution_count": 56,
   "id": "855e2031",
   "metadata": {},
   "outputs": [
    {
     "name": "stdout",
     "output_type": "stream",
     "text": [
      "tello I am Ritest Kumar\n"
     ]
    }
   ],
   "source": [
    "print(a.replace(\"h\", \"t\"))"
   ]
  },
  {
   "cell_type": "code",
   "execution_count": 54,
   "id": "9f50e2ef",
   "metadata": {},
   "outputs": [
    {
     "name": "stdout",
     "output_type": "stream",
     "text": [
      "['hello', 'I', 'am', 'Ritesh', 'Kumar']\n"
     ]
    }
   ],
   "source": [
    "print(a.split(\" \"))"
   ]
  },
  {
   "cell_type": "code",
   "execution_count": 57,
   "id": "2a724036",
   "metadata": {},
   "outputs": [
    {
     "name": "stdout",
     "output_type": "stream",
     "text": [
      "Enter your name:\n",
      "Ritesh\n",
      "Hello, Ritesh\n"
     ]
    }
   ],
   "source": [
    "print(\"Enter your name:\")\n",
    "x = input()\n",
    "print(\"Hello, \" + x)"
   ]
  },
  {
   "cell_type": "code",
   "execution_count": 61,
   "id": "8c249372",
   "metadata": {},
   "outputs": [
    {
     "name": "stdout",
     "output_type": "stream",
     "text": [
      "0.0015926529164868282\n"
     ]
    }
   ],
   "source": [
    "from math import sin\n",
    "\n",
    "x = 3.14\n",
    "y = sin(x)\n",
    "\n",
    "print(y)"
   ]
  },
  {
   "cell_type": "code",
   "execution_count": 62,
   "id": "207c36fc",
   "metadata": {},
   "outputs": [
    {
     "name": "stdout",
     "output_type": "stream",
     "text": [
      "0.0015926529164868282\n",
      "-0.9999987317275395\n"
     ]
    }
   ],
   "source": [
    "from math import sin, cos\n",
    "\n",
    "x = 3.14\n",
    "y = sin(x)\n",
    "print(y)\n",
    "\n",
    "y = cos(x)\n",
    "print(y)"
   ]
  },
  {
   "cell_type": "code",
   "execution_count": 63,
   "id": "df5550db",
   "metadata": {},
   "outputs": [
    {
     "name": "stdout",
     "output_type": "stream",
     "text": [
      "0.0015926529164868282\n",
      "-0.9999987317275395\n"
     ]
    }
   ],
   "source": [
    "from math import *\n",
    "\n",
    "x = 3.14\n",
    "y = sin(x)\n",
    "print(y)\n",
    "\n",
    "y = cos(x)\n",
    "print(y)"
   ]
  },
  {
   "cell_type": "code",
   "execution_count": 64,
   "id": "4c350e4c",
   "metadata": {},
   "outputs": [
    {
     "name": "stdout",
     "output_type": "stream",
     "text": [
      "0.0015926529164868282\n"
     ]
    }
   ],
   "source": [
    "import math\n",
    "\n",
    "x = 3.14\n",
    "y = math.sin(x)\n",
    "\n",
    "print(y)"
   ]
  },
  {
   "cell_type": "code",
   "execution_count": 65,
   "id": "b115dfde",
   "metadata": {},
   "outputs": [
    {
     "name": "stdout",
     "output_type": "stream",
     "text": [
      "0.0015926529164868282\n"
     ]
    }
   ],
   "source": [
    "import math as mt\n",
    "\n",
    "x = 3.14\n",
    "y = mt.sin(x)\n",
    "\n",
    "print(y)"
   ]
  },
  {
   "cell_type": "code",
   "execution_count": 4,
   "id": "48c7b7f3",
   "metadata": {},
   "outputs": [
    {
     "name": "stdout",
     "output_type": "stream",
     "text": [
      "0.1411200080598672\n"
     ]
    }
   ],
   "source": [
    "import numpy as np\n",
    "\n",
    "x = 3\n",
    "y = np.sin(x)\n",
    "\n",
    "print(y)"
   ]
  },
  {
   "cell_type": "code",
   "execution_count": 5,
   "id": "c4e6b4e9",
   "metadata": {},
   "outputs": [
    {
     "name": "stdout",
     "output_type": "stream",
     "text": [
      "0.1411200080598672\n",
      "0.1411200080598672\n"
     ]
    }
   ],
   "source": [
    "import math as mt\n",
    "import numpy as np\n",
    "\n",
    "x = 3\n",
    "\n",
    "y = mt.sin(x)\n",
    "\n",
    "print(y)\n",
    "\n",
    "y = np.sin(x)\n",
    "\n",
    "print(y)"
   ]
  },
  {
   "cell_type": "code",
   "execution_count": 6,
   "id": "faa4b153",
   "metadata": {},
   "outputs": [
    {
     "name": "stdout",
     "output_type": "stream",
     "text": [
      "0.1411200080598672\n",
      "0.1411200080598672\n"
     ]
    }
   ],
   "source": [
    "from math import *\n",
    "from numpy import *\n",
    "\n",
    "x = 3\n",
    "\n",
    "y = sin(x)\n",
    "\n",
    "print(y)\n",
    "\n",
    "y = sin(x)\n",
    "\n",
    "print(y)"
   ]
  },
  {
   "cell_type": "code",
   "execution_count": 7,
   "id": "03418d76",
   "metadata": {},
   "outputs": [],
   "source": [
    "import matplotlib.pyplot as plt\n",
    "plot()\n",
    "title()\n",
    "xlabel()\n",
    "ylabel()\n",
    "axis()\n",
    "grid()\n",
    "subplot()\n",
    "legend()\n",
    "show()\n"
   ]
  },
  {
   "cell_type": "code",
   "execution_count": 9,
   "id": "80c95370",
   "metadata": {},
   "outputs": [
    {
     "data": {
      "image/png": "[encoded data removed]",
      "text/plain": [
       "<Figure size 640x480 with 1 Axes>"
      ]
     },
     "metadata": {},
     "output_type": "display_data"
    }
   ],
   "source": [
    "import matplotlib.pyplot as plt\n",
    "\n",
    "x = [1, 2, 3, 4, 5, 6, 7, 8, 9, 10]\n",
    "\n",
    "y = [5, 2, 4, 4, 8, 7, 4, 8, 10, 9]\n",
    "\n",
    "plt.plot(x,y)\n",
    "plt.xlabel('Time (s) ')\n",
    "plt.ylabel('Temperature (degC) ')\n",
    "plt.show()"
   ]
  },
  {
   "cell_type": "code",
   "execution_count": 10,
   "id": "d4c06f47",
   "metadata": {},
   "outputs": [
    {
     "data": {
      "image/png": "[encoded data removed]",
      "text/plain": [
       "<Figure size 640x480 with 1 Axes>"
      ]
     },
     "metadata": {},
     "output_type": "display_data"
    }
   ],
   "source": [
    "import numpy as np\n",
    "import matplotlib.pyplot as plt\n",
    "\n",
    "x = [0, 1, 2, 3, 4, 5, 6, 7]\n",
    "\n",
    "y = np.sin(x)\n",
    "\n",
    "plt.plot(x, y)\n",
    "plt.xlabel('x')\n",
    "plt.ylabel('y')\n",
    "plt.show()"
   ]
  },
  {
   "cell_type": "code",
   "execution_count": 2,
   "id": "1e79650c",
   "metadata": {},
   "outputs": [
    {
     "data": {
      "image/png": "[encoded data removed]",
      "text/plain": [
       "<Figure size 640x480 with 1 Axes>"
      ]
     },
     "metadata": {},
     "output_type": "display_data"
    },
    {
     "data": {
      "image/png": "[encoded data removed]",
      "text/plain": [
       "<Figure size 640x480 with 1 Axes>"
      ]
     },
     "metadata": {},
     "output_type": "display_data"
    }
   ],
   "source": [
    "import matplotlib.pyplot as plt\n",
    "import numpy as np\n",
    "\n",
    "xstart = 0\n",
    "xstop = 2*np.pi\n",
    "increment = 0.1\n",
    "\n",
    "x = np.arange(xstart, xstop, increment)\n",
    "\n",
    "y = np.sin(x)\n",
    "\n",
    "z = np.cos(x)\n",
    "\n",
    "plt.subplot(2, 1, 1)\n",
    "plt.plot(x, y, 'g')\n",
    "plt.title('sin')\n",
    "plt.xlabel('x')\n",
    "plt.ylabel('sin(x)')\n",
    "plt.grid()\n",
    "plt.show()\n",
    "\n",
    "plt.subplot(2, 1, 2)\n",
    "plt.plot(x, z, 'r')\n",
    "plt.title('cos')\n",
    "plt.xlabel('x')\n",
    "plt.ylabel('cos(x)')\n",
    "plt.grid()\n",
    "plt.show()"
   ]
  },
  {
   "cell_type": "markdown",
   "id": "05f09bd1",
   "metadata": {},
   "source": [
    "# If....Else Loop"
   ]
  },
  {
   "cell_type": "code",
   "execution_count": 4,
   "id": "a74ed5f5",
   "metadata": {},
   "outputs": [
    {
     "name": "stdout",
     "output_type": "stream",
     "text": [
      "b is greater than a\n"
     ]
    }
   ],
   "source": [
    "a = 5\n",
    "b = 8\n",
    "\n",
    "if a > b:\n",
    "    print(\"a is greater than b\")\n",
    "\n",
    "if b > a:\n",
    "    print(\"b is greater than a\")\n",
    "    \n",
    "if a == b:\n",
    "    print(\"a is equal to b\")"
   ]
  },
  {
   "cell_type": "code",
   "execution_count": 5,
   "id": "38cfb0f4",
   "metadata": {},
   "outputs": [
    {
     "name": "stdout",
     "output_type": "stream",
     "text": [
      "b is greater than a\n"
     ]
    }
   ],
   "source": [
    "a = 5\n",
    "b = 8\n",
    "\n",
    "if a > b:\n",
    "    print(\"a is greater than b\")\n",
    "\n",
    "else:\n",
    "    print(\"b is greater than a\")"
   ]
  },
  {
   "cell_type": "code",
   "execution_count": 7,
   "id": "50654d55",
   "metadata": {},
   "outputs": [
    {
     "name": "stdout",
     "output_type": "stream",
     "text": [
      "b is greater than a\n"
     ]
    }
   ],
   "source": [
    "a = 5\n",
    "b = 8\n",
    "\n",
    "if a > b:\n",
    "    print(\"a is greater than b\")\n",
    "\n",
    "elif b > a:\n",
    "    print(\"b is greater than a\")\n",
    "    \n",
    "elif a == b:\n",
    "        print(\"a is equal to b\")"
   ]
  },
  {
   "cell_type": "markdown",
   "id": "5ba046fd",
   "metadata": {},
   "source": [
    "# Arrays"
   ]
  },
  {
   "cell_type": "code",
   "execution_count": 19,
   "id": "89fe8fe4",
   "metadata": {},
   "outputs": [
    {
     "name": "stdout",
     "output_type": "stream",
     "text": [
      "4\n",
      "5.5\n",
      "7.3\n",
      "1.6\n",
      "3.4\n",
      "7.3\n",
      "9.4\n",
      "5\n",
      "New data:\n",
      "1.6\n",
      "3.4\n",
      "7.3\n",
      "9.4\n",
      "11.4\n"
     ]
    }
   ],
   "source": [
    "data = [1.6, 3.4, 5.5, 9.4]\n",
    "\n",
    "N = len(data)\n",
    "\n",
    "print(N)\n",
    "\n",
    "print(data[2])\n",
    "\n",
    "data[2] = 7.3\n",
    "\n",
    "print(data[2])\n",
    "\n",
    "for x in data:\n",
    "    print(x)\n",
    "    \n",
    "data.append(11.4)\n",
    "\n",
    "N = len(data)\n",
    "\n",
    "print(N)\n",
    "\n",
    "print('New data:')\n",
    "\n",
    "for x in data:\n",
    "    print(x)"
   ]
  },
  {
   "cell_type": "code",
   "execution_count": 18,
   "id": "d461851c",
   "metadata": {},
   "outputs": [
    {
     "name": "stdout",
     "output_type": "stream",
     "text": [
      "volvo\n",
      "Tesla\n",
      "Ford\n",
      "New carlist: \n",
      "volvo\n",
      "Tesla\n",
      "Ford\n",
      "Tata\n"
     ]
    }
   ],
   "source": [
    "carlist = [\"volvo\", \"Tesla\", \"Ford\"]\n",
    "\n",
    "for x in carlist:\n",
    "    print(x)\n",
    "    \n",
    "carlist.append('Tata')\n",
    "print(\"New carlist: \")\n",
    "for x in carlist:\n",
    "    print(x)\n"
   ]
  },
  {
   "cell_type": "code",
   "execution_count": null,
   "id": "42ceaa5f",
   "metadata": {},
   "outputs": [],
   "source": [
    "sort(), clear(), copy(), count(), insert(), remove(), etc..."
   ]
  },
  {
   "cell_type": "markdown",
   "id": "12077d1e",
   "metadata": {},
   "source": [
    "# for Loops in python"
   ]
  },
  {
   "cell_type": "code",
   "execution_count": 20,
   "id": "b7a63436",
   "metadata": {},
   "outputs": [
    {
     "name": "stdout",
     "output_type": "stream",
     "text": [
      "0\n",
      "1\n",
      "2\n",
      "3\n",
      "4\n",
      "5\n",
      "6\n",
      "7\n",
      "8\n",
      "9\n"
     ]
    }
   ],
   "source": [
    "N = 10\n",
    "\n",
    "for x in range(N):\n",
    "    print(x)"
   ]
  },
  {
   "cell_type": "code",
   "execution_count": 21,
   "id": "eec464f6",
   "metadata": {},
   "outputs": [
    {
     "name": "stdout",
     "output_type": "stream",
     "text": [
      "4\n",
      "5\n",
      "6\n",
      "7\n",
      "8\n",
      "9\n",
      "10\n",
      "11\n"
     ]
    }
   ],
   "source": [
    "start = 4\n",
    "stop = 12\n",
    "for x in range(start, stop):\n",
    "    print(x)"
   ]
  },
  {
   "cell_type": "code",
   "execution_count": 25,
   "id": "8038c903",
   "metadata": {},
   "outputs": [
    {
     "name": "stdout",
     "output_type": "stream",
     "text": [
      "4\n",
      "6\n",
      "8\n",
      "10\n"
     ]
    }
   ],
   "source": [
    "start = 4\n",
    "stop = 12\n",
    "step = 2\n",
    "\n",
    "for x in range(start, stop, step):\n",
    "    print(x)"
   ]
  },
  {
   "cell_type": "code",
   "execution_count": 27,
   "id": "322a68d5",
   "metadata": {},
   "outputs": [
    {
     "name": "stdout",
     "output_type": "stream",
     "text": [
      "30\n",
      "5.0\n"
     ]
    }
   ],
   "source": [
    "data = [1, 5, 6, 3, 12, 3]\n",
    "\n",
    "sum = 0\n",
    "\n",
    "for x in data:\n",
    "    sum = sum + x\n",
    "print(sum)\n",
    "\n",
    "N = len(data)\n",
    "mean = sum/N\n",
    "\n",
    "print(mean)"
   ]
  },
  {
   "cell_type": "markdown",
   "id": "3b728a63",
   "metadata": {},
   "source": [
    "# Fibonacci Numbers using for loop"
   ]
  },
  {
   "cell_type": "code",
   "execution_count": 28,
   "id": "daa9ea57",
   "metadata": {},
   "outputs": [
    {
     "name": "stdout",
     "output_type": "stream",
     "text": [
      "0\n",
      "1\n",
      "1\n",
      "2\n",
      "3\n",
      "5\n",
      "8\n",
      "13\n",
      "21\n",
      "34\n"
     ]
    }
   ],
   "source": [
    "N = 10\n",
    "\n",
    "fib1 = 0\n",
    "fib2 = 1\n",
    "\n",
    "print(fib1)\n",
    "print(fib2)\n",
    "\n",
    "for k in range(N-2):\n",
    "    fib_next = fib2 + fib1\n",
    "    fib1 = fib2\n",
    "    fib2 = fib_next\n",
    "    print(fib_next)"
   ]
  },
  {
   "cell_type": "code",
   "execution_count": null,
   "id": "da97b0de",
   "metadata": {},
   "outputs": [],
   "source": [
    "# Alternate method"
   ]
  },
  {
   "cell_type": "code",
   "execution_count": 31,
   "id": "7ef34c1e",
   "metadata": {},
   "outputs": [
    {
     "name": "stdout",
     "output_type": "stream",
     "text": [
      "[0, 1, 1, 2, 3, 5, 8, 13, 21, 34]\n"
     ]
    }
   ],
   "source": [
    "N = 10\n",
    "\n",
    "fib = [0, 1]\n",
    "\n",
    "for k in range(N-2):\n",
    "    fib_next = fib[k+1] + fib[k]\n",
    "    fib.append(fib_next)\n",
    "    \n",
    "print(fib)"
   ]
  },
  {
   "cell_type": "code",
   "execution_count": null,
   "id": "99cdfe79",
   "metadata": {},
   "outputs": [],
   "source": [
    "# Another alternate method"
   ]
  },
  {
   "cell_type": "code",
   "execution_count": 32,
   "id": "9f9dbab2",
   "metadata": {},
   "outputs": [
    {
     "name": "stdout",
     "output_type": "stream",
     "text": [
      "[0, 1, 1, 2, 3, 5, 8, 13, 21, 34]\n"
     ]
    }
   ],
   "source": [
    "N =  10\n",
    "\n",
    "fib = []\n",
    "\n",
    "for k in range(N):\n",
    "    fib.append(0)\n",
    "\n",
    "fib[0] = 0\n",
    "fib[1] = 1\n",
    "\n",
    "for k in range(N-2):\n",
    "    fib[k+2] = fib[k+1] + fib[k]\n",
    "    \n",
    "print(fib)"
   ]
  },
  {
   "cell_type": "code",
   "execution_count": null,
   "id": "e2490ac9",
   "metadata": {},
   "outputs": [],
   "source": [
    "# Nested For Loops"
   ]
  },
  {
   "cell_type": "code",
   "execution_count": null,
   "id": "e34d1247",
   "metadata": {},
   "outputs": [],
   "source": [
    "for iterating_var in sequence:\n",
    "    for iterating_var in sequence:\n",
    "        statements(s)\n",
    "    statements(s)\n"
   ]
  },
  {
   "cell_type": "code",
   "execution_count": 36,
   "id": "8a51fc35",
   "metadata": {},
   "outputs": [
    {
     "name": "stdout",
     "output_type": "stream",
     "text": [
      "0 1\n",
      "0 2\n",
      "0 3\n",
      "0 4\n",
      "0 5\n",
      "0 6\n",
      "0 7\n",
      "0 8\n",
      "0 9\n",
      "1 1\n",
      "1 2\n",
      "1 3\n",
      "1 4\n",
      "1 5\n",
      "1 6\n",
      "1 7\n",
      "1 8\n",
      "1 9\n",
      "2 1\n",
      "2 2\n",
      "2 3\n",
      "2 4\n",
      "2 5\n",
      "2 6\n",
      "2 7\n",
      "2 8\n",
      "2 9\n",
      "3 1\n",
      "3 2\n",
      "3 3\n",
      "3 4\n",
      "3 5\n",
      "3 6\n",
      "3 7\n",
      "3 8\n",
      "3 9\n",
      "4 1\n",
      "4 2\n",
      "4 3\n",
      "4 4\n",
      "4 5\n",
      "4 6\n",
      "4 7\n",
      "4 8\n",
      "4 9\n",
      "5 1\n",
      "5 2\n",
      "5 3\n",
      "5 4\n",
      "5 5\n",
      "5 6\n",
      "5 7\n",
      "5 8\n",
      "5 9\n",
      "6 1\n",
      "6 2\n",
      "6 3\n",
      "6 4\n",
      "6 5\n",
      "6 6\n",
      "6 7\n",
      "6 8\n",
      "6 9\n",
      "7 1\n",
      "7 2\n",
      "7 3\n",
      "7 4\n",
      "7 5\n",
      "7 6\n",
      "7 7\n",
      "7 8\n",
      "7 9\n",
      "8 1\n",
      "8 2\n",
      "8 3\n",
      "8 4\n",
      "8 5\n",
      "8 6\n",
      "8 7\n",
      "8 8\n",
      "8 9\n",
      "9 1\n",
      "9 2\n",
      "9 3\n",
      "9 4\n",
      "9 5\n",
      "9 6\n",
      "9 7\n",
      "9 8\n",
      "9 9\n"
     ]
    }
   ],
   "source": [
    "for i in range(0, 10):\n",
    "    for k in range(1, 10):\n",
    "        print(i, k)"
   ]
  },
  {
   "cell_type": "code",
   "execution_count": null,
   "id": "3567a66b",
   "metadata": {},
   "outputs": [],
   "source": [
    "# Prime Numbers between interval"
   ]
  },
  {
   "cell_type": "code",
   "execution_count": 62,
   "id": "6b28ddc3",
   "metadata": {},
   "outputs": [
    {
     "name": "stdout",
     "output_type": "stream",
     "text": [
      "2\n",
      "3\n",
      "5\n",
      "7\n",
      "11\n",
      "13\n",
      "17\n",
      "19\n",
      "23\n",
      "29\n",
      "31\n",
      "37\n",
      "41\n",
      "43\n",
      "47\n",
      "53\n",
      "59\n",
      "61\n",
      "67\n",
      "71\n",
      "73\n",
      "79\n",
      "83\n",
      "89\n",
      "97\n"
     ]
    }
   ],
   "source": [
    "lower = 1\n",
    "upper = 100\n",
    "for num in range(lower, upper + 1):\n",
    "    if num > 1:\n",
    "        for i in range(2, num):\n",
    "            if(num % i) == 0:\n",
    "                break\n",
    "        else:\n",
    "            print(num)"
   ]
  },
  {
   "cell_type": "code",
   "execution_count": 63,
   "id": "9d143ce3",
   "metadata": {},
   "outputs": [
    {
     "name": "stdout",
     "output_type": "stream",
     "text": [
      "8\n",
      "7\n",
      "6\n",
      "5\n",
      "4\n",
      "3\n"
     ]
    }
   ],
   "source": [
    "m = 8\n",
    "\n",
    "while m > 2:\n",
    "    print (m)\n",
    "    m = m-1"
   ]
  },
  {
   "cell_type": "markdown",
   "id": "49c0e3f5",
   "metadata": {},
   "source": [
    "# Creating Fuctions in Python"
   ]
  },
  {
   "cell_type": "code",
   "execution_count": null,
   "id": "5aeff176",
   "metadata": {},
   "outputs": [],
   "source": [
    "def FunctionName:\n",
    "    <statement-1>\n",
    "    .\n",
    "    .\n",
    "    .\n",
    "    <statement-N>\n",
    "    return...."
   ]
  },
  {
   "cell_type": "code",
   "execution_count": 69,
   "id": "ec0e686b",
   "metadata": {},
   "outputs": [
    {
     "name": "stdout",
     "output_type": "stream",
     "text": [
      "Enter the number x: 5\n",
      "Enter the number y: 3\n",
      "Yes we get z =  8\n"
     ]
    }
   ],
   "source": [
    "def add(x, y):\n",
    "    return x + y\n",
    "\n",
    "x = int(input(\"Enter the number x: \"))\n",
    "y = int(input(\"Enter the number y: \"))\n",
    "\n",
    "z = add(x, y)\n",
    "\n",
    "print('Yes we get z = ',z)"
   ]
  },
  {
   "cell_type": "code",
   "execution_count": 80,
   "id": "321e3011",
   "metadata": {},
   "outputs": [
    {
     "name": "stdout",
     "output_type": "stream",
     "text": [
      "Enter the number x: 3\n",
      "Enter the number y: 4\n",
      "Yes we get z =  3.5\n"
     ]
    }
   ],
   "source": [
    "def average(x, y):\n",
    "    return (x + y)/2\n",
    "\n",
    "x = int(input(\"Enter the number x: \"))\n",
    "y = int(input(\"Enter the number y: \"))\n",
    "\n",
    "z = average(x, y)\n",
    "\n",
    "print('Yes we get z = ',z)"
   ]
  },
  {
   "cell_type": "code",
   "execution_count": 85,
   "id": "63227e75",
   "metadata": {},
   "outputs": [
    {
     "name": "stdout",
     "output_type": "stream",
     "text": [
      "totalsum =  30 , mean =  5.0\n"
     ]
    }
   ],
   "source": [
    "def stat(x):\n",
    "    totalsum = 0\n",
    "    for x in data:\n",
    "        totalsum = totalsum + x\n",
    "        \n",
    "    N = len(data)\n",
    "    \n",
    "    mean = totalsum/N\n",
    "    \n",
    "    return totalsum, mean\n",
    "\n",
    "\n",
    "data = [1, 5, 6, 3, 12, 3]\n",
    "\n",
    "totalsum, mean = stat(data)\n",
    "\n",
    "print(\"totalsum = \",totalsum,\", \" \"mean = \", mean)"
   ]
  },
  {
   "cell_type": "markdown",
   "id": "9bc9c95f",
   "metadata": {},
   "source": [
    "# Creating Classes in Python"
   ]
  },
  {
   "cell_type": "code",
   "execution_count": null,
   "id": "bb879a00",
   "metadata": {},
   "outputs": [],
   "source": [
    "class ClassName:\n",
    "    <statement-1>\n",
    "    .\n",
    "    .\n",
    "    .\n",
    "    <statement-N>"
   ]
  },
  {
   "cell_type": "code",
   "execution_count": 86,
   "id": "9b02425b",
   "metadata": {},
   "outputs": [
    {
     "name": "stdout",
     "output_type": "stream",
     "text": [
      "Volvo\n",
      "Blue\n"
     ]
    }
   ],
   "source": [
    "class Car:\n",
    "    model = \"Volvo\"\n",
    "    color = \"Blue\"\n",
    "    \n",
    "car = Car()\n",
    "\n",
    "print(car.model)\n",
    "print(car.color)"
   ]
  },
  {
   "cell_type": "code",
   "execution_count": 87,
   "id": "31dbf50a",
   "metadata": {},
   "outputs": [
    {
     "name": "stdout",
     "output_type": "stream",
     "text": [
      "Ford\n",
      "Green\n"
     ]
    }
   ],
   "source": [
    "class Car:\n",
    "    def __init__(self, model, color):\n",
    "        self.model = model\n",
    "        self.color = color\n",
    "        \n",
    "car1 = Car(\"Ford\", \"Green\")\n",
    "\n",
    "print(car1.model)\n",
    "print(car1.color)"
   ]
  },
  {
   "cell_type": "code",
   "execution_count": 94,
   "id": "bec426bb",
   "metadata": {},
   "outputs": [
    {
     "name": "stdout",
     "output_type": "stream",
     "text": [
      "Fahrenheit: 32.0\n",
      "Celsius: 0.0\n"
     ]
    }
   ],
   "source": [
    "def c2f(Tc):\n",
    "    Tf = (Tc * 9/5) + 32\n",
    "    return Tf\n",
    "\n",
    "def f2c(Tf):\n",
    "    \n",
    "    Tc = (Tf - 32)*(5/9)\n",
    "    return Tc\n",
    "\n",
    "\n",
    "Tc = 0\n",
    "\n",
    "Tf = c2f(Tc)\n",
    "\n",
    "print(\"Fahrenheit: \" + str(Tf))\n",
    "\n",
    "Tf = 32\n",
    "Tc = f2c(Tf)\n",
    "\n",
    "print(\"Celsius: \" + str(Tc))"
   ]
  },
  {
   "cell_type": "markdown",
   "id": "5f29bb49",
   "metadata": {},
   "source": [
    "# File Heandling in Python"
   ]
  },
  {
   "cell_type": "code",
   "execution_count": null,
   "id": "fa2c8fff",
   "metadata": {},
   "outputs": [],
   "source": [
    "##############3\n",
    "\"x\" - Create\n",
    "\"w\" - Write\n",
    "\"r\" - Read\n",
    "\"a\" - Append\n",
    "\"t\" - Text\n",
    "\"b\" - Binary"
   ]
  },
  {
   "cell_type": "code",
   "execution_count": null,
   "id": "3ee2cf2c",
   "metadata": {},
   "outputs": [],
   "source": [
    "f = open(\"myfile.txt\", \"x\")\n",
    "\n",
    "data = \"Hello World\"\n",
    "\n",
    "f.write(data)\n",
    "\n",
    "f.close()"
   ]
  },
  {
   "cell_type": "code",
   "execution_count": 1,
   "id": "af491fbc",
   "metadata": {},
   "outputs": [
    {
     "name": "stdout",
     "output_type": "stream",
     "text": [
      "Hello World\n"
     ]
    }
   ],
   "source": [
    "f = open(\"myfile.txt\", \"r\")\n",
    "\n",
    "data = f.read()\n",
    "\n",
    "print(data)\n",
    "\n",
    "f.close()"
   ]
  },
  {
   "cell_type": "code",
   "execution_count": null,
   "id": "d1dd7dc6",
   "metadata": {},
   "outputs": [],
   "source": [
    "data = [1.6, 3.4, 5.5, 9.4]\n",
    "\n",
    "f = open(\"myfile.txt\", \"x\")\n",
    "\n",
    "for value in data:\n",
    "    record = str(value)\n",
    "    f.write(record)\n",
    "    f.write(\"\\n\")\n",
    "    \n",
    "f.close()"
   ]
  },
  {
   "cell_type": "code",
   "execution_count": 2,
   "id": "ad3b7574",
   "metadata": {},
   "outputs": [
    {
     "name": "stdout",
     "output_type": "stream",
     "text": [
      "Hello World\n"
     ]
    }
   ],
   "source": [
    "f = open(\"myfile.txt\", \"r\")\n",
    "\n",
    "for record in f:\n",
    "    record = record.replace(\"\\n\", \"\")\n",
    "    print(record)\n",
    "    \n",
    "f.close()"
   ]
  },
  {
   "cell_type": "code",
   "execution_count": 3,
   "id": "20526301",
   "metadata": {},
   "outputs": [
    {
     "name": "stdout",
     "output_type": "stream",
     "text": [
      "10\n",
      "19\n",
      "8\n",
      "24\n",
      "9\n",
      "9\n",
      "7\n",
      "12\n",
      "9\n",
      "6\n"
     ]
    }
   ],
   "source": [
    "import random\n",
    "for x in range(10):\n",
    "    data = random.randint(1,31)\n",
    "    print(data)"
   ]
  },
  {
   "cell_type": "markdown",
   "id": "c4eeaba2",
   "metadata": {},
   "source": [
    "# Error Handling in Python"
   ]
  },
  {
   "cell_type": "code",
   "execution_count": 8,
   "id": "b930bcce",
   "metadata": {},
   "outputs": [
    {
     "ename": "SyntaxError",
     "evalue": "invalid syntax (1184292740.py, line 1)",
     "output_type": "error",
     "traceback": [
      "\u001b[1;36m  File \u001b[1;32m\"C:\\Users\\HP\\AppData\\Local\\Temp\\ipykernel_1160\\1184292740.py\"\u001b[1;36m, line \u001b[1;32m1\u001b[0m\n\u001b[1;33m    print ( Hello World)\u001b[0m\n\u001b[1;37m                  ^\u001b[0m\n\u001b[1;31mSyntaxError\u001b[0m\u001b[1;31m:\u001b[0m invalid syntax\n"
     ]
    }
   ],
   "source": [
    ">>> print ( Hello World)\n",
    "File \"<ipython−input−1−10cb182148e3>\" , line1\n",
    "print(\"hello world\")"
   ]
  },
  {
   "cell_type": "code",
   "execution_count": 10,
   "id": "f1dca240",
   "metadata": {},
   "outputs": [
    {
     "name": "stdout",
     "output_type": "stream",
     "text": [
      "The calculation failed\n"
     ]
    }
   ],
   "source": [
    "try:\n",
    "    10*(1/0)\n",
    "except:\n",
    "    print(\"The calculation failed\")"
   ]
  },
  {
   "cell_type": "markdown",
   "id": "05a42042",
   "metadata": {},
   "source": [
    "# Python Environments and Distributions"
   ]
  },
  {
   "cell_type": "code",
   "execution_count": null,
   "id": "3f4072d4",
   "metadata": {},
   "outputs": [],
   "source": [
    "# PIP - Installing Python Packages\n",
    "# PIP means - pip install packagename\n",
    "# PIP - A python package manager\n",
    "# Conda - A Package and Environment Manager"
   ]
  },
  {
   "cell_type": "code",
   "execution_count": null,
   "id": "09395325",
   "metadata": {},
   "outputs": [],
   "source": [
    "# Anaconda is not an Editor, but a Python Distribution package. \n",
    "# Spyder is included in the Python Distribution package.\n",
    "# Anaconda Navigator is a desktop graphical user interface (GUI) "
   ]
  },
  {
   "cell_type": "markdown",
   "id": "43d22386",
   "metadata": {},
   "source": [
    "# Enthought Canopy"
   ]
  },
  {
   "cell_type": "code",
   "execution_count": null,
   "id": "06f90334",
   "metadata": {},
   "outputs": [],
   "source": [
    "Enthought Canopy is a Python Platform or Python Distribution for Scientists\n",
    "and Engineers.\n",
    "\n",
    "Canopy provides access to several hundreds Python packages, including\n",
    "NumPy, SciPy, Pandas, Matplotlib, and IPython.\n",
    "\n",
    "\n",
    "# IDE - Integrated Development Enviroment"
   ]
  },
  {
   "cell_type": "markdown",
   "id": "63ffbd8a",
   "metadata": {},
   "source": [
    "# Python Editors"
   ]
  },
  {
   "cell_type": "code",
   "execution_count": null,
   "id": "20c975a6",
   "metadata": {},
   "outputs": [],
   "source": [
    "# Spyder - short for \"Scientific Python Development Environment\"\n",
    "# Visual Studio Code\n",
    "# Visual Studio\n",
    "# PyCHarm\n",
    "# Wing\n",
    "# JupyterNotebook"
   ]
  },
  {
   "cell_type": "markdown",
   "id": "440782e9",
   "metadata": {},
   "source": [
    "# Python for Mathematics Applications"
   ]
  },
  {
   "cell_type": "code",
   "execution_count": 12,
   "id": "39d716af",
   "metadata": {},
   "outputs": [
    {
     "name": "stdout",
     "output_type": "stream",
     "text": [
      "mean =  2.625\n",
      "st_dev =  2.787621447279622\n",
      "med = 2.875\n",
      "var = 7.770833333333333\n"
     ]
    }
   ],
   "source": [
    "import statistics as st\n",
    "\n",
    "data = [-1.0, 2.5, 3.25, 5.75]\n",
    "\n",
    "m = st.mean(data)\n",
    "print(\"mean = \", m)\n",
    "\n",
    "st_dev = st.stdev(data)\n",
    "\n",
    "print(\"st_dev = \",st_dev)\n",
    "\n",
    "med = st.median(data)\n",
    "print(\"med =\",med)\n",
    "\n",
    "var = st.variance(data)\n",
    "print(\"var =\",var)"
   ]
  },
  {
   "cell_type": "code",
   "execution_count": 16,
   "id": "8e949a9e",
   "metadata": {},
   "outputs": [
    {
     "name": "stdout",
     "output_type": "stream",
     "text": [
      "mean = 2.625\n",
      "st_dev =  2.787621447279622\n",
      "med = 2.875\n",
      "var = 7.770833333333333\n",
      "-1.0\n",
      "5.75\n"
     ]
    }
   ],
   "source": [
    "import numpy as np\n",
    "\n",
    "data = [-1.0, 2.5, 3.25, 5.75]\n",
    "\n",
    "m = np.mean(data)\n",
    "print(\"mean =\",m)\n",
    "\n",
    "st_dev = st.stdev(data)\n",
    "\n",
    "print(\"st_dev = \",st_dev)\n",
    "\n",
    "med = st.median(data)\n",
    "print(\"med =\",med)\n",
    "\n",
    "var = st.variance(data)\n",
    "print(\"var =\",var)\n",
    "\n",
    "minv = np.min(data)\n",
    "print(minv)\n",
    "\n",
    "maxv = np.max(data)\n",
    "print(maxv)"
   ]
  }
 ],
 "metadata": {
  "kernelspec": {
   "display_name": "Python 3 (ipykernel)",
   "language": "python",
   "name": "python3"
  },
  "language_info": {
   "codemirror_mode": {
    "name": "ipython",
    "version": 3
   },
   "file_extension": ".py",
   "mimetype": "text/x-python",
   "name": "python",
   "nbconvert_exporter": "python",
   "pygments_lexer": "ipython3",
   "version": "3.9.13"
  }
 },
 "nbformat": 4,
 "nbformat_minor": 5
}
